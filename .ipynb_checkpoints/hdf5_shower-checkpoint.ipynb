{
 "cells": [
  {
   "cell_type": "code",
   "execution_count": 1,
   "metadata": {},
   "outputs": [],
   "source": [
    "import h5py as h5\n",
    "import matplotlib.style\n",
    "import matplotlib as mpl"
   ]
  },
  {
   "cell_type": "code",
   "execution_count": 4,
   "metadata": {},
   "outputs": [],
   "source": [
    "h5_target=h5.File(\"results_2022_12_20.hdf5\",\"r\")"
   ]
  },
  {
   "cell_type": "code",
   "execution_count": null,
   "metadata": {},
   "outputs": [],
   "source": [
    "average_ch3=np.array(hf_target.get('average_ch3').value)\n",
    "average_0_500_ch3=np.array(hf_target.get('average_0_500_ch3').value)\n",
    "average_500_1000_ch3=np.array(hf_target.get('average_500_1000_ch3').value)\n",
    "waveform_ch3_time=np.array(hf_target.get('waveform_ch3_time').value)\n",
    "smoothed_ch3_ave=np.array(hf_target.get('smoothed_ch3_ave').value)\n",
    "smoothed_ch3_time=np.array(hf_target.get('smoothed_ch3_time').value)\n",
    "\n",
    "average_ch4=np.array(hf_target.get('average_ch4').value)\n",
    "average_0_500_ch4=np.array(hf_target.get('average_0_500_ch4').value)\n",
    "average_500_1000_ch4=np.array(hf_target.get('average_500_1000_ch4').value)\n",
    "waveform_ch4_time=np.array(hf_target.get('waveform_ch4_time').value)\n",
    "smoothed_ch4_ave=np.array(hf_target.get('smoothed_ch4_ave').value)\n",
    "smoothed_ch4_time=np.array(hf_target.get('smoothed_ch4_time').value)\n",
    "\n",
    "average_bkg_ch3=np.array(hf_target.get('average_bkg_ch3').value)\n",
    "average_bkg_0_500_ch3=np.array(hf_target.get('average_bkg_0_500_ch3').value)\n",
    "average_bkg_500_1000_ch3=np.array(hf_target.get('average_bkg_500_1000_ch3').value)\n",
    "bkg_time_ch3=np.array(hf_target.get('bkg_time_ch3').value)\n",
    "smoothed_ch3_bkg_ave=np.array(hf_target.get('smoothed_ch3_bkg_ave').value)\n",
    "smoothed_ch3_bkg_time=np.array(hf_target.get('smoothed_ch3_bkg_time').value)\n",
    "\n",
    "average_bkg_ch4=np.array(hf_target.get('average_bkg_ch4').value)\n",
    "average_bkg_0_500_ch4=np.array(hf_target.get('average_bkg_0_500_ch4').value)\n",
    "average_bkg_500_1000_ch4=np.array(hf_target.get('average_bkg_500_1000_ch4').value)\n",
    "bkg_time_ch4=np.array(hf_target.get('bkg_time_ch4').value)\n",
    "smoothed_ch4_bkg_ave=np.array(hf_target.get('smoothed_ch4_bkg_ave').value)\n",
    "smoothed_ch4_bkg_time=np.array(hf_target.get('smoothed_ch4_bkg_time').value)\n",
    "\n",
    "ave_clean_ch3=np.array(hf_target.get('ave_clean_ch3').value)\n",
    "ave_clean_ch4=np.array(hf_target.get('ave_clean_ch4').value)\n",
    "ave_clean_ch3_smooth=np.array(hf_target.get('ave_clean_ch3_smooth').value)\n",
    "ave_clean_ch4_smooth=np.array(hf_target.get('ave_clean_ch4_smooth').value)"
   ]
  }
 ],
 "metadata": {
  "kernelspec": {
   "display_name": "Python 3",
   "language": "python",
   "name": "python3"
  },
  "language_info": {
   "codemirror_mode": {
    "name": "ipython",
    "version": 3
   },
   "file_extension": ".py",
   "mimetype": "text/x-python",
   "name": "python",
   "nbconvert_exporter": "python",
   "pygments_lexer": "ipython3",
   "version": "3.7.1"
  }
 },
 "nbformat": 4,
 "nbformat_minor": 2
}
