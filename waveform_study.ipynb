{
 "cells": [
  {
   "cell_type": "code",
   "execution_count": null,
   "metadata": {},
   "outputs": [],
   "source": [
    "from PyPurityTools import PyPurityTools as ppt\n",
    "from PyPurityFunctions import PyPurityFunctions as ppf\n",
    "import numpy as np\n",
    "import matplotlib.pyplot as plt\n",
    "import time\n",
    "from scipy.signal import savgol_filter\n",
    "import matplotlib.style\n",
    "import matplotlib as mpl\n",
    "import math\n",
    "import scipy.fftpack\n",
    "from scipy.signal import butter,filtfilt\n",
    "import scipy.fftpack\n",
    "import os\n",
    "import statistics\n",
    "\n",
    "#Set default figure size\n",
    "mpl.rcParams['figure.figsize'] = [12.0, 8.0]\n",
    "mpl.rcParams[\"legend.frameon\"] = False\n",
    "mpl.rcParams.update({'font.size': 22})"
   ]
  },
  {
   "cell_type": "code",
   "execution_count": null,
   "metadata": {},
   "outputs": [],
   "source": [
    "file_test_3,time_test_3 = ppt.getScopeWaveforms(\"/unix/dune/purity/2022October14Vacuum/Gold/Field_5.10.20Vcm_FibreIn_14.38.ch3.traces\")"
   ]
  },
  {
   "cell_type": "code",
   "execution_count": null,
   "metadata": {},
   "outputs": [],
   "source": [
    "fig, ax = plt.subplots()\n",
    "ax.plot(time_test_3,file_test_3[3],label=\"Input Pulse\")\n",
    "ax.set_xlabel(\"Time (Microseconds)\")\n",
    "ax.set_ylabel(\"Voltage (Volts)\")"
   ]
  },
  {
   "cell_type": "code",
   "execution_count": null,
   "metadata": {},
   "outputs": [],
   "source": [
    "file_test_4,time_test_4 = ppt.getScopeWaveforms(\"/unix/dune/purity/2022October14Vacuum/Gold/Field_5.10.20Vcm_FibreIn_14.38.ch4.traces\")"
   ]
  },
  {
   "cell_type": "code",
   "execution_count": null,
   "metadata": {},
   "outputs": [],
   "source": [
    "fig, ax = plt.subplots()\n",
    "ax.plot(time_test_4,file_test_4[3],label=\"Input Pulse\")\n",
    "ax.set_xlabel(\"Time (Microseconds)\")\n",
    "ax.set_ylabel(\"Voltage (Volts)\")"
   ]
  },
  {
   "cell_type": "code",
   "execution_count": null,
   "metadata": {},
   "outputs": [],
   "source": [
    "path_dir: str = r\"/unix/dune/purity/2022October14Vacuum/Gold/\""
   ]
  },
  {
   "cell_type": "code",
   "execution_count": null,
   "metadata": {},
   "outputs": [],
   "source": [
    "counter=ppf.specific_file_counter(path_dir,\".ch4.traces\")"
   ]
  },
  {
   "cell_type": "code",
   "execution_count": null,
   "metadata": {},
   "outputs": [],
   "source": [
    "print(counter)"
   ]
  },
  {
   "cell_type": "code",
   "execution_count": null,
   "metadata": {},
   "outputs": [],
   "source": [
    "ch3_peaks=ppf.peak_finder_ave(path_dir,\".ch3.traces\",1)"
   ]
  },
  {
   "cell_type": "code",
   "execution_count": null,
   "metadata": {},
   "outputs": [],
   "source": [
    "ch4_peaks=ppf.peak_finder_ave(path_dir,\".ch4.traces\",-1)"
   ]
  },
  {
   "cell_type": "code",
   "execution_count": null,
   "metadata": {},
   "outputs": [],
   "source": [
    "ch3_time=np.arange(len(ch3_peaks))\n",
    "ch4_time=np.arange(len(ch4_peaks))"
   ]
  },
  {
   "cell_type": "code",
   "execution_count": null,
   "metadata": {},
   "outputs": [],
   "source": [
    "fig, ax = plt.subplots()\n",
    "ax.plot(ch3_time,ch3_peaks)\n",
    "ax.set_xlabel(\"Time [a.u.]\")\n",
    "ax.set_ylabel(\"Voltage [Volts]\")\n",
    "ax.set_title(\"Peaks for Ch3 over time\")"
   ]
  },
  {
   "cell_type": "code",
   "execution_count": null,
   "metadata": {},
   "outputs": [],
   "source": [
    "fig, ax = plt.subplots()\n",
    "ax.plot(ch4_time,ch4_peaks)\n",
    "ax.set_xlabel(\"Time [a.u.]\")\n",
    "ax.set_ylabel(\"Voltage [Volts]\")\n",
    "ax.set_title(\"Peaks for Ch4 over time\")"
   ]
  },
  {
   "cell_type": "code",
   "execution_count": null,
   "metadata": {},
   "outputs": [],
   "source": [
    "with open('/home/svergani/waveform_study_results/2022_10_31/ch3_peaks.npy','wb') as f: pickle.dump(np.array(ch3_peaks), f)\n",
    "#np.save(\"ch3_average_waveform\",np.array(ch3))"
   ]
  },
  {
   "cell_type": "code",
   "execution_count": null,
   "metadata": {},
   "outputs": [],
   "source": [
    "with open('/home/svergani/waveform_study_results/2022_10_31/ch4_peaks.npy','wb') as f: pickle.dump(np.array(ch4_peaks), f)"
   ]
  },
  {
   "cell_type": "code",
   "execution_count": null,
   "metadata": {},
   "outputs": [],
   "source": []
  }
 ],
 "metadata": {
  "kernelspec": {
   "display_name": "Python 3",
   "language": "python",
   "name": "python3"
  },
  "language_info": {
   "codemirror_mode": {
    "name": "ipython",
    "version": 3
   },
   "file_extension": ".py",
   "mimetype": "text/x-python",
   "name": "python",
   "nbconvert_exporter": "python",
   "pygments_lexer": "ipython3",
   "version": "3.7.1"
  }
 },
 "nbformat": 4,
 "nbformat_minor": 2
}
